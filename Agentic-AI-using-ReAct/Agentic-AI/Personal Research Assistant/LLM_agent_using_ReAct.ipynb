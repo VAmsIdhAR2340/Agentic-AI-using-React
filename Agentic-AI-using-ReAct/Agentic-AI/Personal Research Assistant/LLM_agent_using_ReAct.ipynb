{
  "nbformat": 4,
  "nbformat_minor": 0,
  "metadata": {
    "colab": {
      "provenance": []
    },
    "kernelspec": {
      "name": "python3",
      "display_name": "Python 3"
    },
    "language_info": {
      "name": "python"
    }
  },
  "cells": [
    {
      "cell_type": "code",
      "source": [
        "# Updading langchain packages\n",
        "!pip install --upgrade langchain"
      ],
      "metadata": {
        "colab": {
          "base_uri": "https://localhost:8080/"
        },
        "collapsed": true,
        "id": "Rj-J7jh_SHCN",
        "outputId": "47f007a7-4f23-4042-b383-31100154e798"
      },
      "execution_count": null,
      "outputs": [
        {
          "output_type": "stream",
          "name": "stdout",
          "text": [
            "Collecting langchain\n",
            "  Downloading langchain-0.2.8-py3-none-any.whl (987 kB)\n",
            "\u001b[2K     \u001b[90m━━━━━━━━━━━━━━━━━━━━━━━━━━━━━━━━━━━━━━━━\u001b[0m \u001b[32m987.6/987.6 kB\u001b[0m \u001b[31m9.9 MB/s\u001b[0m eta \u001b[36m0:00:00\u001b[0m\n",
            "\u001b[?25hRequirement already satisfied: PyYAML>=5.3 in /usr/local/lib/python3.10/dist-packages (from langchain) (6.0.1)\n",
            "Requirement already satisfied: SQLAlchemy<3,>=1.4 in /usr/local/lib/python3.10/dist-packages (from langchain) (2.0.31)\n",
            "Requirement already satisfied: aiohttp<4.0.0,>=3.8.3 in /usr/local/lib/python3.10/dist-packages (from langchain) (3.9.5)\n",
            "Requirement already satisfied: async-timeout<5.0.0,>=4.0.0 in /usr/local/lib/python3.10/dist-packages (from langchain) (4.0.3)\n",
            "Collecting langchain-core<0.3.0,>=0.2.19 (from langchain)\n",
            "  Downloading langchain_core-0.2.19-py3-none-any.whl (366 kB)\n",
            "\u001b[2K     \u001b[90m━━━━━━━━━━━━━━━━━━━━━━━━━━━━━━━━━━━━━━━━\u001b[0m \u001b[32m366.5/366.5 kB\u001b[0m \u001b[31m14.6 MB/s\u001b[0m eta \u001b[36m0:00:00\u001b[0m\n",
            "\u001b[?25hCollecting langchain-text-splitters<0.3.0,>=0.2.0 (from langchain)\n",
            "  Downloading langchain_text_splitters-0.2.2-py3-none-any.whl (25 kB)\n",
            "Collecting langsmith<0.2.0,>=0.1.17 (from langchain)\n",
            "  Downloading langsmith-0.1.86-py3-none-any.whl (129 kB)\n",
            "\u001b[2K     \u001b[90m━━━━━━━━━━━━━━━━━━━━━━━━━━━━━━━━━━━━━━━━\u001b[0m \u001b[32m129.4/129.4 kB\u001b[0m \u001b[31m11.6 MB/s\u001b[0m eta \u001b[36m0:00:00\u001b[0m\n",
            "\u001b[?25hRequirement already satisfied: numpy<2,>=1 in /usr/local/lib/python3.10/dist-packages (from langchain) (1.25.2)\n",
            "Requirement already satisfied: pydantic<3,>=1 in /usr/local/lib/python3.10/dist-packages (from langchain) (2.8.2)\n",
            "Requirement already satisfied: requests<3,>=2 in /usr/local/lib/python3.10/dist-packages (from langchain) (2.32.3)\n",
            "Requirement already satisfied: tenacity!=8.4.0,<9.0.0,>=8.1.0 in /usr/local/lib/python3.10/dist-packages (from langchain) (8.5.0)\n",
            "Requirement already satisfied: aiosignal>=1.1.2 in /usr/local/lib/python3.10/dist-packages (from aiohttp<4.0.0,>=3.8.3->langchain) (1.3.1)\n",
            "Requirement already satisfied: attrs>=17.3.0 in /usr/local/lib/python3.10/dist-packages (from aiohttp<4.0.0,>=3.8.3->langchain) (23.2.0)\n",
            "Requirement already satisfied: frozenlist>=1.1.1 in /usr/local/lib/python3.10/dist-packages (from aiohttp<4.0.0,>=3.8.3->langchain) (1.4.1)\n",
            "Requirement already satisfied: multidict<7.0,>=4.5 in /usr/local/lib/python3.10/dist-packages (from aiohttp<4.0.0,>=3.8.3->langchain) (6.0.5)\n",
            "Requirement already satisfied: yarl<2.0,>=1.0 in /usr/local/lib/python3.10/dist-packages (from aiohttp<4.0.0,>=3.8.3->langchain) (1.9.4)\n",
            "Collecting jsonpatch<2.0,>=1.33 (from langchain-core<0.3.0,>=0.2.19->langchain)\n",
            "  Downloading jsonpatch-1.33-py2.py3-none-any.whl (12 kB)\n",
            "Requirement already satisfied: packaging<25,>=23.2 in /usr/local/lib/python3.10/dist-packages (from langchain-core<0.3.0,>=0.2.19->langchain) (24.1)\n",
            "Collecting orjson<4.0.0,>=3.9.14 (from langsmith<0.2.0,>=0.1.17->langchain)\n",
            "  Downloading orjson-3.10.6-cp310-cp310-manylinux_2_17_x86_64.manylinux2014_x86_64.whl (141 kB)\n",
            "\u001b[2K     \u001b[90m━━━━━━━━━━━━━━━━━━━━━━━━━━━━━━━━━━━━━━━━\u001b[0m \u001b[32m141.1/141.1 kB\u001b[0m \u001b[31m14.6 MB/s\u001b[0m eta \u001b[36m0:00:00\u001b[0m\n",
            "\u001b[?25hRequirement already satisfied: annotated-types>=0.4.0 in /usr/local/lib/python3.10/dist-packages (from pydantic<3,>=1->langchain) (0.7.0)\n",
            "Requirement already satisfied: pydantic-core==2.20.1 in /usr/local/lib/python3.10/dist-packages (from pydantic<3,>=1->langchain) (2.20.1)\n",
            "Requirement already satisfied: typing-extensions>=4.6.1 in /usr/local/lib/python3.10/dist-packages (from pydantic<3,>=1->langchain) (4.12.2)\n",
            "Requirement already satisfied: charset-normalizer<4,>=2 in /usr/local/lib/python3.10/dist-packages (from requests<3,>=2->langchain) (3.3.2)\n",
            "Requirement already satisfied: idna<4,>=2.5 in /usr/local/lib/python3.10/dist-packages (from requests<3,>=2->langchain) (3.7)\n",
            "Requirement already satisfied: urllib3<3,>=1.21.1 in /usr/local/lib/python3.10/dist-packages (from requests<3,>=2->langchain) (2.0.7)\n",
            "Requirement already satisfied: certifi>=2017.4.17 in /usr/local/lib/python3.10/dist-packages (from requests<3,>=2->langchain) (2024.7.4)\n",
            "Requirement already satisfied: greenlet!=0.4.17 in /usr/local/lib/python3.10/dist-packages (from SQLAlchemy<3,>=1.4->langchain) (3.0.3)\n",
            "Collecting jsonpointer>=1.9 (from jsonpatch<2.0,>=1.33->langchain-core<0.3.0,>=0.2.19->langchain)\n",
            "  Downloading jsonpointer-3.0.0-py2.py3-none-any.whl (7.6 kB)\n",
            "Installing collected packages: orjson, jsonpointer, jsonpatch, langsmith, langchain-core, langchain-text-splitters, langchain\n",
            "Successfully installed jsonpatch-1.33 jsonpointer-3.0.0 langchain-0.2.8 langchain-core-0.2.19 langchain-text-splitters-0.2.2 langsmith-0.1.86 orjson-3.10.6\n"
          ]
        }
      ]
    },
    {
      "cell_type": "code",
      "source": [
        "# Install the langchain-community package.\n",
        "!pip install -U langchain-community"
      ],
      "metadata": {
        "collapsed": true,
        "colab": {
          "base_uri": "https://localhost:8080/"
        },
        "id": "LQYY8kI_SM_-",
        "outputId": "8cb54d50-92f7-4e7a-d53d-f561efe46c3f"
      },
      "execution_count": null,
      "outputs": [
        {
          "output_type": "stream",
          "name": "stdout",
          "text": [
            "Collecting langchain-community\n",
            "  Downloading langchain_community-0.2.7-py3-none-any.whl (2.2 MB)\n",
            "\u001b[2K     \u001b[90m━━━━━━━━━━━━━━━━━━━━━━━━━━━━━━━━━━━━━━━━\u001b[0m \u001b[32m2.2/2.2 MB\u001b[0m \u001b[31m14.2 MB/s\u001b[0m eta \u001b[36m0:00:00\u001b[0m\n",
            "\u001b[?25hRequirement already satisfied: PyYAML>=5.3 in /usr/local/lib/python3.10/dist-packages (from langchain-community) (6.0.1)\n",
            "Requirement already satisfied: SQLAlchemy<3,>=1.4 in /usr/local/lib/python3.10/dist-packages (from langchain-community) (2.0.31)\n",
            "Requirement already satisfied: aiohttp<4.0.0,>=3.8.3 in /usr/local/lib/python3.10/dist-packages (from langchain-community) (3.9.5)\n",
            "Collecting dataclasses-json<0.7,>=0.5.7 (from langchain-community)\n",
            "  Downloading dataclasses_json-0.6.7-py3-none-any.whl (28 kB)\n",
            "Requirement already satisfied: langchain<0.3.0,>=0.2.7 in /usr/local/lib/python3.10/dist-packages (from langchain-community) (0.2.8)\n",
            "Requirement already satisfied: langchain-core<0.3.0,>=0.2.12 in /usr/local/lib/python3.10/dist-packages (from langchain-community) (0.2.19)\n",
            "Requirement already satisfied: langsmith<0.2.0,>=0.1.0 in /usr/local/lib/python3.10/dist-packages (from langchain-community) (0.1.86)\n",
            "Requirement already satisfied: numpy<2,>=1 in /usr/local/lib/python3.10/dist-packages (from langchain-community) (1.25.2)\n",
            "Requirement already satisfied: requests<3,>=2 in /usr/local/lib/python3.10/dist-packages (from langchain-community) (2.32.3)\n",
            "Requirement already satisfied: tenacity!=8.4.0,<9.0.0,>=8.1.0 in /usr/local/lib/python3.10/dist-packages (from langchain-community) (8.5.0)\n",
            "Requirement already satisfied: aiosignal>=1.1.2 in /usr/local/lib/python3.10/dist-packages (from aiohttp<4.0.0,>=3.8.3->langchain-community) (1.3.1)\n",
            "Requirement already satisfied: attrs>=17.3.0 in /usr/local/lib/python3.10/dist-packages (from aiohttp<4.0.0,>=3.8.3->langchain-community) (23.2.0)\n",
            "Requirement already satisfied: frozenlist>=1.1.1 in /usr/local/lib/python3.10/dist-packages (from aiohttp<4.0.0,>=3.8.3->langchain-community) (1.4.1)\n",
            "Requirement already satisfied: multidict<7.0,>=4.5 in /usr/local/lib/python3.10/dist-packages (from aiohttp<4.0.0,>=3.8.3->langchain-community) (6.0.5)\n",
            "Requirement already satisfied: yarl<2.0,>=1.0 in /usr/local/lib/python3.10/dist-packages (from aiohttp<4.0.0,>=3.8.3->langchain-community) (1.9.4)\n",
            "Requirement already satisfied: async-timeout<5.0,>=4.0 in /usr/local/lib/python3.10/dist-packages (from aiohttp<4.0.0,>=3.8.3->langchain-community) (4.0.3)\n",
            "Collecting marshmallow<4.0.0,>=3.18.0 (from dataclasses-json<0.7,>=0.5.7->langchain-community)\n",
            "  Downloading marshmallow-3.21.3-py3-none-any.whl (49 kB)\n",
            "\u001b[2K     \u001b[90m━━━━━━━━━━━━━━━━━━━━━━━━━━━━━━━━━━━━━━━━\u001b[0m \u001b[32m49.2/49.2 kB\u001b[0m \u001b[31m5.1 MB/s\u001b[0m eta \u001b[36m0:00:00\u001b[0m\n",
            "\u001b[?25hCollecting typing-inspect<1,>=0.4.0 (from dataclasses-json<0.7,>=0.5.7->langchain-community)\n",
            "  Downloading typing_inspect-0.9.0-py3-none-any.whl (8.8 kB)\n",
            "Requirement already satisfied: langchain-text-splitters<0.3.0,>=0.2.0 in /usr/local/lib/python3.10/dist-packages (from langchain<0.3.0,>=0.2.7->langchain-community) (0.2.2)\n",
            "Requirement already satisfied: pydantic<3,>=1 in /usr/local/lib/python3.10/dist-packages (from langchain<0.3.0,>=0.2.7->langchain-community) (2.8.2)\n",
            "Requirement already satisfied: jsonpatch<2.0,>=1.33 in /usr/local/lib/python3.10/dist-packages (from langchain-core<0.3.0,>=0.2.12->langchain-community) (1.33)\n",
            "Requirement already satisfied: packaging<25,>=23.2 in /usr/local/lib/python3.10/dist-packages (from langchain-core<0.3.0,>=0.2.12->langchain-community) (24.1)\n",
            "Requirement already satisfied: orjson<4.0.0,>=3.9.14 in /usr/local/lib/python3.10/dist-packages (from langsmith<0.2.0,>=0.1.0->langchain-community) (3.10.6)\n",
            "Requirement already satisfied: charset-normalizer<4,>=2 in /usr/local/lib/python3.10/dist-packages (from requests<3,>=2->langchain-community) (3.3.2)\n",
            "Requirement already satisfied: idna<4,>=2.5 in /usr/local/lib/python3.10/dist-packages (from requests<3,>=2->langchain-community) (3.7)\n",
            "Requirement already satisfied: urllib3<3,>=1.21.1 in /usr/local/lib/python3.10/dist-packages (from requests<3,>=2->langchain-community) (2.0.7)\n",
            "Requirement already satisfied: certifi>=2017.4.17 in /usr/local/lib/python3.10/dist-packages (from requests<3,>=2->langchain-community) (2024.7.4)\n",
            "Requirement already satisfied: typing-extensions>=4.6.0 in /usr/local/lib/python3.10/dist-packages (from SQLAlchemy<3,>=1.4->langchain-community) (4.12.2)\n",
            "Requirement already satisfied: greenlet!=0.4.17 in /usr/local/lib/python3.10/dist-packages (from SQLAlchemy<3,>=1.4->langchain-community) (3.0.3)\n",
            "Requirement already satisfied: jsonpointer>=1.9 in /usr/local/lib/python3.10/dist-packages (from jsonpatch<2.0,>=1.33->langchain-core<0.3.0,>=0.2.12->langchain-community) (3.0.0)\n",
            "Requirement already satisfied: annotated-types>=0.4.0 in /usr/local/lib/python3.10/dist-packages (from pydantic<3,>=1->langchain<0.3.0,>=0.2.7->langchain-community) (0.7.0)\n",
            "Requirement already satisfied: pydantic-core==2.20.1 in /usr/local/lib/python3.10/dist-packages (from pydantic<3,>=1->langchain<0.3.0,>=0.2.7->langchain-community) (2.20.1)\n",
            "Collecting mypy-extensions>=0.3.0 (from typing-inspect<1,>=0.4.0->dataclasses-json<0.7,>=0.5.7->langchain-community)\n",
            "  Downloading mypy_extensions-1.0.0-py3-none-any.whl (4.7 kB)\n",
            "Installing collected packages: mypy-extensions, marshmallow, typing-inspect, dataclasses-json, langchain-community\n",
            "Successfully installed dataclasses-json-0.6.7 langchain-community-0.2.7 marshmallow-3.21.3 mypy-extensions-1.0.0 typing-inspect-0.9.0\n"
          ]
        }
      ]
    },
    {
      "cell_type": "code",
      "source": [
        "#Installing openAI package\n",
        "!pip install OpenAI"
      ],
      "metadata": {
        "colab": {
          "base_uri": "https://localhost:8080/"
        },
        "collapsed": true,
        "id": "n_jgXViKSIBQ",
        "outputId": "b357ae73-f9c4-44a3-d1c5-04ab26870e29"
      },
      "execution_count": null,
      "outputs": [
        {
          "output_type": "stream",
          "name": "stdout",
          "text": [
            "Collecting OpenAI\n",
            "  Downloading openai-1.35.14-py3-none-any.whl (328 kB)\n",
            "\u001b[2K     \u001b[90m━━━━━━━━━━━━━━━━━━━━━━━━━━━━━━━━━━━━━━━━\u001b[0m \u001b[32m328.5/328.5 kB\u001b[0m \u001b[31m7.2 MB/s\u001b[0m eta \u001b[36m0:00:00\u001b[0m\n",
            "\u001b[?25hRequirement already satisfied: anyio<5,>=3.5.0 in /usr/local/lib/python3.10/dist-packages (from OpenAI) (3.7.1)\n",
            "Requirement already satisfied: distro<2,>=1.7.0 in /usr/lib/python3/dist-packages (from OpenAI) (1.7.0)\n",
            "Collecting httpx<1,>=0.23.0 (from OpenAI)\n",
            "  Downloading httpx-0.27.0-py3-none-any.whl (75 kB)\n",
            "\u001b[2K     \u001b[90m━━━━━━━━━━━━━━━━━━━━━━━━━━━━━━━━━━━━━━━━\u001b[0m \u001b[32m75.6/75.6 kB\u001b[0m \u001b[31m5.0 MB/s\u001b[0m eta \u001b[36m0:00:00\u001b[0m\n",
            "\u001b[?25hRequirement already satisfied: pydantic<3,>=1.9.0 in /usr/local/lib/python3.10/dist-packages (from OpenAI) (2.8.2)\n",
            "Requirement already satisfied: sniffio in /usr/local/lib/python3.10/dist-packages (from OpenAI) (1.3.1)\n",
            "Requirement already satisfied: tqdm>4 in /usr/local/lib/python3.10/dist-packages (from OpenAI) (4.66.4)\n",
            "Requirement already satisfied: typing-extensions<5,>=4.7 in /usr/local/lib/python3.10/dist-packages (from OpenAI) (4.12.2)\n",
            "Requirement already satisfied: idna>=2.8 in /usr/local/lib/python3.10/dist-packages (from anyio<5,>=3.5.0->OpenAI) (3.7)\n",
            "Requirement already satisfied: exceptiongroup in /usr/local/lib/python3.10/dist-packages (from anyio<5,>=3.5.0->OpenAI) (1.2.1)\n",
            "Requirement already satisfied: certifi in /usr/local/lib/python3.10/dist-packages (from httpx<1,>=0.23.0->OpenAI) (2024.7.4)\n",
            "Collecting httpcore==1.* (from httpx<1,>=0.23.0->OpenAI)\n",
            "  Downloading httpcore-1.0.5-py3-none-any.whl (77 kB)\n",
            "\u001b[2K     \u001b[90m━━━━━━━━━━━━━━━━━━━━━━━━━━━━━━━━━━━━━━━━\u001b[0m \u001b[32m77.9/77.9 kB\u001b[0m \u001b[31m7.2 MB/s\u001b[0m eta \u001b[36m0:00:00\u001b[0m\n",
            "\u001b[?25hCollecting h11<0.15,>=0.13 (from httpcore==1.*->httpx<1,>=0.23.0->OpenAI)\n",
            "  Downloading h11-0.14.0-py3-none-any.whl (58 kB)\n",
            "\u001b[2K     \u001b[90m━━━━━━━━━━━━━━━━━━━━━━━━━━━━━━━━━━━━━━━━\u001b[0m \u001b[32m58.3/58.3 kB\u001b[0m \u001b[31m6.5 MB/s\u001b[0m eta \u001b[36m0:00:00\u001b[0m\n",
            "\u001b[?25hRequirement already satisfied: annotated-types>=0.4.0 in /usr/local/lib/python3.10/dist-packages (from pydantic<3,>=1.9.0->OpenAI) (0.7.0)\n",
            "Requirement already satisfied: pydantic-core==2.20.1 in /usr/local/lib/python3.10/dist-packages (from pydantic<3,>=1.9.0->OpenAI) (2.20.1)\n",
            "Installing collected packages: h11, httpcore, httpx, OpenAI\n",
            "Successfully installed OpenAI-1.35.14 h11-0.14.0 httpcore-1.0.5 httpx-0.27.0\n"
          ]
        }
      ]
    },
    {
      "cell_type": "code",
      "source": [
        "import openai\n",
        "\n",
        "file = 'openAiKey.txt'\n",
        "with open(file, 'r') as f:\n",
        "    openai.api_key = f.read().strip()"
      ],
      "metadata": {
        "id": "Xg6pWy2uSIFQ"
      },
      "execution_count": null,
      "outputs": []
    },
    {
      "cell_type": "code",
      "source": [
        "from langchain import hub\n",
        "from langchain.agents import AgentExecutor\n",
        "from langchain.agents import create_react_agent\n",
        "from langchain.chat_models import ChatOpenAI\n",
        "\n",
        "# Creating Large language model\n",
        "llm = ChatOpenAI(\n",
        "    model = \"gpt-3.5-turbo\",  #Specify the GPT-3.5-turbo model.\n",
        "    temperature = 0.5,      # Set the temperature for controlling response\n",
        "    openai_api_key = openai.api_key\n",
        ")"
      ],
      "metadata": {
        "id": "BDcKsgUQShnC",
        "colab": {
          "base_uri": "https://localhost:8080/"
        },
        "outputId": "3f08653c-906d-440c-f32a-414be88baefd"
      },
      "execution_count": null,
      "outputs": [
        {
          "output_type": "stream",
          "name": "stderr",
          "text": [
            "/usr/local/lib/python3.10/dist-packages/langchain_core/_api/deprecation.py:139: LangChainDeprecationWarning: The class `ChatOpenAI` was deprecated in LangChain 0.0.10 and will be removed in 0.3.0. An updated version of the class exists in the langchain-openai package and should be used instead. To use it run `pip install -U langchain-openai` and import as `from langchain_openai import ChatOpenAI`.\n",
            "  warn_deprecated(\n"
          ]
        }
      ]
    },
    {
      "cell_type": "code",
      "source": [
        "#Installing the langchainhub package\n",
        "!pip install langchainhub"
      ],
      "metadata": {
        "colab": {
          "base_uri": "https://localhost:8080/"
        },
        "collapsed": true,
        "id": "NJ5e_vIpTfWQ",
        "outputId": "5b4f8cae-4fee-4d0f-b61e-894a03a58f9d"
      },
      "execution_count": null,
      "outputs": [
        {
          "output_type": "stream",
          "name": "stdout",
          "text": [
            "Collecting langchainhub\n",
            "  Downloading langchainhub-0.1.20-py3-none-any.whl (5.0 kB)\n",
            "Requirement already satisfied: packaging<25,>=23.2 in /usr/local/lib/python3.10/dist-packages (from langchainhub) (24.1)\n",
            "Requirement already satisfied: requests<3,>=2 in /usr/local/lib/python3.10/dist-packages (from langchainhub) (2.32.3)\n",
            "Collecting types-requests<3.0.0.0,>=2.31.0.2 (from langchainhub)\n",
            "  Downloading types_requests-2.32.0.20240712-py3-none-any.whl (15 kB)\n",
            "Requirement already satisfied: charset-normalizer<4,>=2 in /usr/local/lib/python3.10/dist-packages (from requests<3,>=2->langchainhub) (3.3.2)\n",
            "Requirement already satisfied: idna<4,>=2.5 in /usr/local/lib/python3.10/dist-packages (from requests<3,>=2->langchainhub) (3.7)\n",
            "Requirement already satisfied: urllib3<3,>=1.21.1 in /usr/local/lib/python3.10/dist-packages (from requests<3,>=2->langchainhub) (2.0.7)\n",
            "Requirement already satisfied: certifi>=2017.4.17 in /usr/local/lib/python3.10/dist-packages (from requests<3,>=2->langchainhub) (2024.7.4)\n",
            "Installing collected packages: types-requests, langchainhub\n",
            "Successfully installed langchainhub-0.1.20 types-requests-2.32.0.20240712\n"
          ]
        }
      ]
    },
    {
      "cell_type": "code",
      "source": [
        "# call the Wikipedia API for real time searches.\n",
        "!pip install wikipedia"
      ],
      "metadata": {
        "id": "zjEYJnu2f5bH",
        "colab": {
          "base_uri": "https://localhost:8080/"
        },
        "collapsed": true,
        "outputId": "3a3a4446-cd80-4ce1-8fb3-b7e885fe06e2"
      },
      "execution_count": null,
      "outputs": [
        {
          "output_type": "stream",
          "name": "stdout",
          "text": [
            "Collecting wikipedia\n",
            "  Downloading wikipedia-1.4.0.tar.gz (27 kB)\n",
            "  Preparing metadata (setup.py) ... \u001b[?25l\u001b[?25hdone\n",
            "Requirement already satisfied: beautifulsoup4 in /usr/local/lib/python3.10/dist-packages (from wikipedia) (4.12.3)\n",
            "Requirement already satisfied: requests<3.0.0,>=2.0.0 in /usr/local/lib/python3.10/dist-packages (from wikipedia) (2.32.3)\n",
            "Requirement already satisfied: charset-normalizer<4,>=2 in /usr/local/lib/python3.10/dist-packages (from requests<3.0.0,>=2.0.0->wikipedia) (3.3.2)\n",
            "Requirement already satisfied: idna<4,>=2.5 in /usr/local/lib/python3.10/dist-packages (from requests<3.0.0,>=2.0.0->wikipedia) (3.7)\n",
            "Requirement already satisfied: urllib3<3,>=1.21.1 in /usr/local/lib/python3.10/dist-packages (from requests<3.0.0,>=2.0.0->wikipedia) (2.0.7)\n",
            "Requirement already satisfied: certifi>=2017.4.17 in /usr/local/lib/python3.10/dist-packages (from requests<3.0.0,>=2.0.0->wikipedia) (2024.7.4)\n",
            "Requirement already satisfied: soupsieve>1.2 in /usr/local/lib/python3.10/dist-packages (from beautifulsoup4->wikipedia) (2.5)\n",
            "Building wheels for collected packages: wikipedia\n",
            "  Building wheel for wikipedia (setup.py) ... \u001b[?25l\u001b[?25hdone\n",
            "  Created wheel for wikipedia: filename=wikipedia-1.4.0-py3-none-any.whl size=11680 sha256=d77bb81e28d8bbab84f3e9d78206acb57b01be5883c996eb9c650907bb21dad8\n",
            "  Stored in directory: /root/.cache/pip/wheels/5e/b6/c5/93f3dec388ae76edc830cb42901bb0232504dfc0df02fc50de\n",
            "Successfully built wikipedia\n",
            "Installing collected packages: wikipedia\n",
            "Successfully installed wikipedia-1.4.0\n"
          ]
        }
      ]
    },
    {
      "cell_type": "code",
      "source": [
        "from langchain.agents import load_tools\n",
        "tools = load_tools([\"wikipedia\"], llm=llm) # Load the Wikipedia tool to enable the agent to access and search Wikipedia.\n",
        "print('tools',  tools)\n",
        "\n",
        "# Get an example prompt from langchain that was constructed for this agent architecture.\n",
        "prompt = hub.pull(\"hwchase17/react\")\n",
        "# inspect the prompt\n",
        "prompt.template\n",
        "\n",
        "# create an agent with tools\n",
        "agent_with_tools = create_react_agent(llm, tools=tools, prompt=prompt)\n",
        "\n",
        "# instantiate and call the agent\n",
        "agent_executor = AgentExecutor(agent=agent_with_tools, tools=tools, verbose=True)\n",
        "agent_executor.invoke({\"input\": \"Please help me come up with a three course Italian dinner menu. It should be vegetarian. I have cauliflower and tomatoes in my fridge.\"})"
      ],
      "metadata": {
        "id": "F1d0WOmeSIIa",
        "colab": {
          "base_uri": "https://localhost:8080/"
        },
        "collapsed": true,
        "outputId": "bf527bd6-d928-4817-f809-40bc9172c52c"
      },
      "execution_count": null,
      "outputs": [
        {
          "output_type": "stream",
          "name": "stdout",
          "text": [
            "tools [WikipediaQueryRun(api_wrapper=WikipediaAPIWrapper(wiki_client=<module 'wikipedia' from '/usr/local/lib/python3.10/dist-packages/wikipedia/__init__.py'>, top_k_results=3, lang='en', load_all_available_meta=False, doc_content_chars_max=4000))]\n",
            "\n",
            "\n",
            "\u001b[1m> Entering new AgentExecutor chain...\u001b[0m\n",
            "\u001b[32;1m\u001b[1;3mYou can search for Italian vegetarian dishes that include cauliflower and tomatoes.\n",
            "Action: wikipedia\n",
            "Action Input: Italian vegetarian dishes with cauliflower and tomatoes\u001b[0m\u001b[36;1m\u001b[1;3mPage: List of vegetable dishes\n",
            "Summary: This is a list of vegetable dishes, that includes dishes in which the main ingredient or one of the essential ingredients is a vegetable or vegetables.\n",
            "In culinary terms, a vegetable is an edible plant or its part, intended for cooking or eating raw. Many vegetable-based dishes exist throughout the world.\n",
            "\n",
            "Page: Fried cauliflower\n",
            "Summary: Fried cauliflower is a popular dish in many cuisines of the Middle East, South Asia, Europe, and elsewhere. It may start from raw or cooked cauliflower; it may be dipped in batter or breading; it may be fried in oil, butter, or other fats. It can be served on its own, as a mezze or side dish, or in a sandwich. It is often seasoned with salt, spices, and a variety of sauces, in the Middle East often based on tahini or strained yogurt.\n",
            "Cauliflower in general, and fried cauliflower in particular, has become increasingly popular in the United States.\n",
            "\n",
            "Page: Italian cuisine\n",
            "Summary: Italian cuisine is a Mediterranean cuisine consisting of the ingredients, recipes, and cooking techniques developed in Italy since Roman times and later spread around the world together with waves of Italian diaspora. Significant changes occurred with the colonization of the Americas and the introduction of potatoes, tomatoes, capsicums, maize, and sugar beet—the latter introduced in quantity in the 18th century. It is one of the best-known and most appreciated gastronomies worldwide.\n",
            "Italian cuisine includes deeply rooted traditions common to the whole country, as well as all the regional gastronomies, different from each other, especially between the north, the centre, and the south of Italy, which are in continuous exchange. Many dishes that were once regional have proliferated with variations throughout the country. Italian cuisine offers an abundance of taste, and is one of the most popular and copied around the world. The cuisine has influenced several other cuisines around the world, chiefly that of the United States in the form of Italian-American cuisine.\n",
            "One of the main characteristics of Italian cuisine is its simplicity, with many dishes made up of few ingredients, and therefore Italian cooks often rely on the quality of the ingredients, rather than the complexity of preparation. Italian cuisine is at the origin of a turnover of more than €200 billion worldwide. The most popular dishes and recipes, over the centuries, have often been created by ordinary people more so than by chefs, which is why many Italian recipes are suitable for home and daily cooking, respecting regional specificities, privileging only raw materials and ingredients from the region of origin of the dish and preserving its seasonality.\n",
            "The Mediterranean diet forms the basis of Italian cuisine, rich in pasta, fish, fruits, and vegetables. Cheese, cold cuts, and wine are central to Italian cuisine, and along with pizza and coffee (especially espresso) form part of Italian gastronomic culture. Desserts have a long tradition of merging local flavours such as citrus fruits, pistachio, and almonds with sweet cheeses such as mascarpone and ricotta or exotic tastes as cocoa, vanilla, and cinnamon. Gelato, tiramisu, and cassata are among the most famous examples of Italian desserts, cakes, and patisserie. Italian cuisine relies heavily on traditional products; the country has a large number of traditional specialities protected under EU law. Italy is the world's largest producer of wine, as well as the country with the widest variety of indigenous grapevine varieties in the world.\n",
            "\n",
            "\u001b[0m\u001b[32;1m\u001b[1;3mI can look for Italian vegetarian dishes that include cauliflower and tomatoes for the three-course dinner menu.\n",
            "Action: wikipedia\n",
            "Action Input: Italian vegetarian dishes with cauliflower and tomatoes\u001b[0m\u001b[36;1m\u001b[1;3mPage: List of vegetable dishes\n",
            "Summary: This is a list of vegetable dishes, that includes dishes in which the main ingredient or one of the essential ingredients is a vegetable or vegetables.\n",
            "In culinary terms, a vegetable is an edible plant or its part, intended for cooking or eating raw. Many vegetable-based dishes exist throughout the world.\n",
            "\n",
            "Page: Fried cauliflower\n",
            "Summary: Fried cauliflower is a popular dish in many cuisines of the Middle East, South Asia, Europe, and elsewhere. It may start from raw or cooked cauliflower; it may be dipped in batter or breading; it may be fried in oil, butter, or other fats. It can be served on its own, as a mezze or side dish, or in a sandwich. It is often seasoned with salt, spices, and a variety of sauces, in the Middle East often based on tahini or strained yogurt.\n",
            "Cauliflower in general, and fried cauliflower in particular, has become increasingly popular in the United States.\n",
            "\n",
            "Page: Italian cuisine\n",
            "Summary: Italian cuisine is a Mediterranean cuisine consisting of the ingredients, recipes, and cooking techniques developed in Italy since Roman times and later spread around the world together with waves of Italian diaspora. Significant changes occurred with the colonization of the Americas and the introduction of potatoes, tomatoes, capsicums, maize, and sugar beet—the latter introduced in quantity in the 18th century. It is one of the best-known and most appreciated gastronomies worldwide.\n",
            "Italian cuisine includes deeply rooted traditions common to the whole country, as well as all the regional gastronomies, different from each other, especially between the north, the centre, and the south of Italy, which are in continuous exchange. Many dishes that were once regional have proliferated with variations throughout the country. Italian cuisine offers an abundance of taste, and is one of the most popular and copied around the world. The cuisine has influenced several other cuisines around the world, chiefly that of the United States in the form of Italian-American cuisine.\n",
            "One of the main characteristics of Italian cuisine is its simplicity, with many dishes made up of few ingredients, and therefore Italian cooks often rely on the quality of the ingredients, rather than the complexity of preparation. Italian cuisine is at the origin of a turnover of more than €200 billion worldwide. The most popular dishes and recipes, over the centuries, have often been created by ordinary people more so than by chefs, which is why many Italian recipes are suitable for home and daily cooking, respecting regional specificities, privileging only raw materials and ingredients from the region of origin of the dish and preserving its seasonality.\n",
            "The Mediterranean diet forms the basis of Italian cuisine, rich in pasta, fish, fruits, and vegetables. Cheese, cold cuts, and wine are central to Italian cuisine, and along with pizza and coffee (especially espresso) form part of Italian gastronomic culture. Desserts have a long tradition of merging local flavours such as citrus fruits, pistachio, and almonds with sweet cheeses such as mascarpone and ricotta or exotic tastes as cocoa, vanilla, and cinnamon. Gelato, tiramisu, and cassata are among the most famous examples of Italian desserts, cakes, and patisserie. Italian cuisine relies heavily on traditional products; the country has a large number of traditional specialities protected under EU law. Italy is the world's largest producer of wine, as well as the country with the widest variety of indigenous grapevine varieties in the world.\n",
            "\n",
            "\u001b[0m\u001b[32;1m\u001b[1;3mI can search for specific Italian vegetarian dishes that include cauliflower and tomatoes for each course of the dinner menu.\n",
            "Action: wikipedia\n",
            "Action Input: Italian vegetarian appetizers with cauliflower and tomatoes\u001b[0m\u001b[36;1m\u001b[1;3mPage: Meze\n",
            "Summary: Meze (also spelled mezze or mezé) (, ) is a selection of small dishes served as appetizers in Levantine, Turkish, Balkan, Armenian, Kurdish, and Greek cuisines. It is similar to Spanish tapas and Italian antipasti. A meze may be served as a part of a multi-course meal or form a meal in itself. Meze are often served with spirits such as arak, rakia, raki, oghi, ouzo, or grappa at meyhane and ouzeri or at regular restaurants.\n",
            "\n",
            "Page: Fried cauliflower\n",
            "Summary: Fried cauliflower is a popular dish in many cuisines of the Middle East, South Asia, Europe, and elsewhere. It may start from raw or cooked cauliflower; it may be dipped in batter or breading; it may be fried in oil, butter, or other fats. It can be served on its own, as a mezze or side dish, or in a sandwich. It is often seasoned with salt, spices, and a variety of sauces, in the Middle East often based on tahini or strained yogurt.\n",
            "Cauliflower in general, and fried cauliflower in particular, has become increasingly popular in the United States.\n",
            "\n",
            "Page: List of vegetable dishes\n",
            "Summary: This is a list of vegetable dishes, that includes dishes in which the main ingredient or one of the essential ingredients is a vegetable or vegetables.\n",
            "In culinary terms, a vegetable is an edible plant or its part, intended for cooking or eating raw. Many vegetable-based dishes exist throughout the world.\u001b[0m\u001b[32;1m\u001b[1;3mI need to find Italian vegetarian main course and dessert dishes that include cauliflower and tomatoes.\n",
            "Action: wikipedia\n",
            "Action Input: Italian vegetarian main course dishes with cauliflower and tomatoes\u001b[0m\u001b[36;1m\u001b[1;3mPage: Fried cauliflower\n",
            "Summary: Fried cauliflower is a popular dish in many cuisines of the Middle East, South Asia, Europe, and elsewhere. It may start from raw or cooked cauliflower; it may be dipped in batter or breading; it may be fried in oil, butter, or other fats. It can be served on its own, as a mezze or side dish, or in a sandwich. It is often seasoned with salt, spices, and a variety of sauces, in the Middle East often based on tahini or strained yogurt.\n",
            "Cauliflower in general, and fried cauliflower in particular, has become increasingly popular in the United States.\n",
            "\n",
            "Page: List of cheese dishes\n",
            "Summary: This is a list of notable cheese dishes in which cheese is used as a primary ingredient or as a significant component of a dish or a food. Cheese is a food derived from milk that is produced in a wide range of flavors, textures, and forms by coagulation of the milk protein casein. It comprises proteins and fat from milk, usually the milk of cows, buffalo, goats, or sheep.\n",
            "\n",
            "Page: Italian cuisine\n",
            "Summary: Italian cuisine is a Mediterranean cuisine consisting of the ingredients, recipes, and cooking techniques developed in Italy since Roman times and later spread around the world together with waves of Italian diaspora. Significant changes occurred with the colonization of the Americas and the introduction of potatoes, tomatoes, capsicums, maize, and sugar beet—the latter introduced in quantity in the 18th century. It is one of the best-known and most appreciated gastronomies worldwide.\n",
            "Italian cuisine includes deeply rooted traditions common to the whole country, as well as all the regional gastronomies, different from each other, especially between the north, the centre, and the south of Italy, which are in continuous exchange. Many dishes that were once regional have proliferated with variations throughout the country. Italian cuisine offers an abundance of taste, and is one of the most popular and copied around the world. The cuisine has influenced several other cuisines around the world, chiefly that of the United States in the form of Italian-American cuisine.\n",
            "One of the main characteristics of Italian cuisine is its simplicity, with many dishes made up of few ingredients, and therefore Italian cooks often rely on the quality of the ingredients, rather than the complexity of preparation. Italian cuisine is at the origin of a turnover of more than €200 billion worldwide. The most popular dishes and recipes, over the centuries, have often been created by ordinary people more so than by chefs, which is why many Italian recipes are suitable for home and daily cooking, respecting regional specificities, privileging only raw materials and ingredients from the region of origin of the dish and preserving its seasonality.\n",
            "The Mediterranean diet forms the basis of Italian cuisine, rich in pasta, fish, fruits, and vegetables. Cheese, cold cuts, and wine are central to Italian cuisine, and along with pizza and coffee (especially espresso) form part of Italian gastronomic culture. Desserts have a long tradition of merging local flavours such as citrus fruits, pistachio, and almonds with sweet cheeses such as mascarpone and ricotta or exotic tastes as cocoa, vanilla, and cinnamon. Gelato, tiramisu, and cassata are among the most famous examples of Italian desserts, cakes, and patisserie. Italian cuisine relies heavily on traditional products; the country has a large number of traditional specialities protected under EU law. Italy is the world's largest producer of wine, as well as the country with the widest variety of indigenous grapevine varieties in the world.\n",
            "\n",
            "\u001b[0m\u001b[32;1m\u001b[1;3mI can create a three-course Italian vegetarian dinner menu using cauliflower and tomatoes for each course.\n",
            "Action: wikipedia\n",
            "Action Input: Italian vegetarian desserts with cauliflower and tomatoes\u001b[0m\u001b[36;1m\u001b[1;3mPage: Italian cuisine\n",
            "Summary: Italian cuisine is a Mediterranean cuisine consisting of the ingredients, recipes, and cooking techniques developed in Italy since Roman times and later spread around the world together with waves of Italian diaspora. Significant changes occurred with the colonization of the Americas and the introduction of potatoes, tomatoes, capsicums, maize, and sugar beet—the latter introduced in quantity in the 18th century. It is one of the best-known and most appreciated gastronomies worldwide.\n",
            "Italian cuisine includes deeply rooted traditions common to the whole country, as well as all the regional gastronomies, different from each other, especially between the north, the centre, and the south of Italy, which are in continuous exchange. Many dishes that were once regional have proliferated with variations throughout the country. Italian cuisine offers an abundance of taste, and is one of the most popular and copied around the world. The cuisine has influenced several other cuisines around the world, chiefly that of the United States in the form of Italian-American cuisine.\n",
            "One of the main characteristics of Italian cuisine is its simplicity, with many dishes made up of few ingredients, and therefore Italian cooks often rely on the quality of the ingredients, rather than the complexity of preparation. Italian cuisine is at the origin of a turnover of more than €200 billion worldwide. The most popular dishes and recipes, over the centuries, have often been created by ordinary people more so than by chefs, which is why many Italian recipes are suitable for home and daily cooking, respecting regional specificities, privileging only raw materials and ingredients from the region of origin of the dish and preserving its seasonality.\n",
            "The Mediterranean diet forms the basis of Italian cuisine, rich in pasta, fish, fruits, and vegetables. Cheese, cold cuts, and wine are central to Italian cuisine, and along with pizza and coffee (especially espresso) form part of Italian gastronomic culture. Desserts have a long tradition of merging local flavours such as citrus fruits, pistachio, and almonds with sweet cheeses such as mascarpone and ricotta or exotic tastes as cocoa, vanilla, and cinnamon. Gelato, tiramisu, and cassata are among the most famous examples of Italian desserts, cakes, and patisserie. Italian cuisine relies heavily on traditional products; the country has a large number of traditional specialities protected under EU law. Italy is the world's largest producer of wine, as well as the country with the widest variety of indigenous grapevine varieties in the world.\n",
            "\n",
            "\n",
            "\n",
            "Page: Fried cauliflower\n",
            "Summary: Fried cauliflower is a popular dish in many cuisines of the Middle East, South Asia, Europe, and elsewhere. It may start from raw or cooked cauliflower; it may be dipped in batter or breading; it may be fried in oil, butter, or other fats. It can be served on its own, as a mezze or side dish, or in a sandwich. It is often seasoned with salt, spices, and a variety of sauces, in the Middle East often based on tahini or strained yogurt.\n",
            "Cauliflower in general, and fried cauliflower in particular, has become increasingly popular in the United States.\n",
            "\n",
            "Page: Turkish cuisine\n",
            "Summary: Turkish cuisine (Turkish: Türk mutfağı) is the cuisine of Turkey and the Turkish diaspora. Although the cuisine took its current rich form after numerous cultural interactions throughout centuries, it should not be confused with other cuisines such as Ottoman cuisine (Osmanlı mutfağı) or Seljuk cuisine. Turkish cuisine with traditional Turkic elements such as yogurt, ayran, kaymak, exerts and gains influences to and from Mediterranean, Balkan, Middle Eastern, Central Asian and Eastern European cuisines.\n",
            "Turkish cuisine shows variation across Turkey. The cooking of Istanbul, Bursa, İzmir, and rest of the Anatolia region inherits many elements of Ottoman court cuisine, including moderate use of spices, a preference for rice over bulgur, kof\u001b[0m\u001b[32;1m\u001b[1;3mI can now create a three-course Italian vegetarian dinner menu using cauliflower and tomatoes for each course.\n",
            "Final Answer: For the Italian vegetarian dinner menu, you can start with fried cauliflower as an appetizer, followed by a cauliflower and tomato main course dish, and finish with an Italian dessert such as tiramisu.\u001b[0m\n",
            "\n",
            "\u001b[1m> Finished chain.\u001b[0m\n"
          ]
        },
        {
          "output_type": "execute_result",
          "data": {
            "text/plain": [
              "{'input': 'Please help me come up with a three course Italian dinner menu. It should be vegetarian. I have cauliflower and tomatoes in my fridge.',\n",
              " 'output': 'For the Italian vegetarian dinner menu, you can start with fried cauliflower as an appetizer, followed by a cauliflower and tomato main course dish, and finish with an Italian dessert such as tiramisu.'}"
            ]
          },
          "metadata": {},
          "execution_count": 9
        }
      ]
    },
    {
      "cell_type": "markdown",
      "source": [
        "**Retrieving the information and summarizing the given information**"
      ],
      "metadata": {
        "id": "3h_6H9_7Fkii"
      }
    },
    {
      "cell_type": "code",
      "source": [
        "from IPython.display import display, Markdown\n",
        "\n",
        "# Define a function to summarize a given topic.\n",
        "def summarize_topic(agent_executor,topic):\n",
        "  # Query the agent for information about the topic.\n",
        "    wiki_result = agent_executor.invoke({\"input\": f\"Tell me about the {topic}\"})\n",
        " # Ask the agent to summarize the topic in two lines in layman's terms.\n",
        "    summarize_topic = agent_executor.invoke({\"input\": f\"Summarize the topic {topic} in 2 lines it should be in layman terms.\"})\n",
        "# Display the summarized output in Markdown format.\n",
        "    display(Markdown(f\"**The summarized output of the {topic} is:** {summarize_topic['output']}\"))\n",
        "#Calling agent\n",
        "agent_executor = AgentExecutor(agent=agent_with_tools, tools=tools, verbose=True)\n",
        "print(\"Output by Vamsidhar Vuddagiri\")\n",
        "print()\n",
        "while True:\n",
        "  topic = input(\"Enter your choice of interest, all the results will be fetched from Wikipedia. The results will be summarization of your topic \")\n",
        "  if topic == \"exit\":\n",
        "    break\n",
        "  else:\n",
        "    answer = summarize_topic(agent_executor,topic)\n",
        "\n"
      ],
      "metadata": {
        "colab": {
          "base_uri": "https://localhost:8080/",
          "height": 1000
        },
        "id": "IGcGSFGB2qZM",
        "outputId": "4961f980-8574-4ef2-fcdc-01ead0e1d80a"
      },
      "execution_count": null,
      "outputs": [
        {
          "output_type": "stream",
          "name": "stdout",
          "text": [
            "Output by Vamsidhar Vuddagiri\n",
            "\n",
            "Enter your choice of interest, all the results will be fetched from Wikipedia. The results will be summarization of your topic Human\n",
            "\n",
            "\n",
            "\u001b[1m> Entering new AgentExecutor chain...\u001b[0m\n",
            "\u001b[32;1m\u001b[1;3myou should search for general information about the human species\n",
            "Action: wikipedia\n",
            "Action Input: Human\u001b[0m\u001b[36;1m\u001b[1;3mPage: Human\n",
            "Summary: Humans (Homo sapiens) or modern humans  are the most common and widespread species of primate, and the last surviving species of the genus Homo. They are great apes characterized by their hairlessness, bipedalism, and high intelligence. Humans have large brains, enabling more advanced cognitive skills that enable them to thrive and adapt in varied environments, develop highly complex tools, and form complex social structures and civilizations. Humans are highly social, with individual humans tending to belong to a multi-layered network of cooperating, distinct, or even competing social groups – from families and peer groups to corporations and political states. As such, social interactions between humans have established a wide variety of values, social norms, languages, and traditions (collectively termed institutions), each of which bolsters human society. Humans are also highly curious: the desire to understand and influence phenomena has motivated humanity's development of science, technology, philosophy, mythology, religion, and other frameworks of knowledge; humans also study themselves through such domains as anthropology, social science, history, psychology, and medicine. There are estimated to be more than 8 billion humans alive.\n",
            "Although some scientists equate the term \"humans\" with all members of the genus Homo, in common usage it generally refers to Homo sapiens, the only extant member. All other members of the genus Homo, which are now extinct, are known as archaic humans, and the term \"modern human\" is used to distinguish Homo sapiens from archaic humans. Anatomically modern humans emerged around 300,000 years ago in Africa, evolving from Homo heidelbergensis or a similar species. Migrating out of Africa, they gradually replaced and interbred with local populations of archaic humans. Multiple hypotheses for the extinction of archaic human species such as Neanderthals include competition, violence, interbreeding with Homo sapiens, or inability to adapt to climate change. Humans began exhibiting behavioral modernity about 160,000–60,000 years ago. For most of their history, humans were nomadic hunter-gatherers. The Neolithic Revolution, which began in Southwest Asia around 13,000 years ago (and separately in a few other places), saw the emergence of agriculture and permanent human settlement; in turn, this led to the development of civilization and kickstarted a period of continuous (and ongoing) population growth and rapid technological change. Since then, a number of civilizations have risen and fallen, while a number of sociocultural and technological developments have resulted in significant changes to the human lifestyle.\n",
            "Genes and the environment influence human biological variation in visible characteristics, physiology, disease susceptibility, mental abilities, body size, and life span. Though humans vary in many traits, humans are among the least genetically diverse species. Any two humans are at least 99.5% genetically similar. Humans are sexually dimorphic: generally, males have greater body strength and females have a higher body fat percentage. At puberty, humans develop secondary sex characteristics. Females are capable of pregnancy, usually between puberty, at around 12 years old, and menopause, around the age of 50. As omnivorous creatures, they are capable of consuming a wide variety of plant and animal material, and have used fire and other forms of heat to prepare and cook food since the time of Homo erectus. Humans can survive for up to eight weeks without food and several days without water. Humans are generally diurnal, sleeping on average seven to nine hours per day. Childbirth is dangerous, with a high risk of complications and death. Often, both the mother and the father provide care for their children, who are helpless at birth.\n",
            "Humans have a large, highly developed, and complex prefrontal cortex, the region of the brain associated with higher cognition. Humans are hig\u001b[0m\u001b[32;1m\u001b[1;3mI now have a good understanding of the general information about humans\n",
            "Final Answer: Humans (Homo sapiens) are the most common and widespread species of primate, characterized by their hairlessness, bipedalism, high intelligence, and social nature.\u001b[0m\n",
            "\n",
            "\u001b[1m> Finished chain.\u001b[0m\n",
            "\n",
            "\n",
            "\u001b[1m> Entering new AgentExecutor chain...\u001b[0m\n",
            "\u001b[32;1m\u001b[1;3mI should look up a simple explanation of what a human is.\n",
            "Action: wikipedia\n",
            "Action Input: Human\u001b[0m\u001b[36;1m\u001b[1;3mPage: Human\n",
            "Summary: Humans (Homo sapiens) or modern humans  are the most common and widespread species of primate, and the last surviving species of the genus Homo. They are great apes characterized by their hairlessness, bipedalism, and high intelligence. Humans have large brains, enabling more advanced cognitive skills that enable them to thrive and adapt in varied environments, develop highly complex tools, and form complex social structures and civilizations. Humans are highly social, with individual humans tending to belong to a multi-layered network of cooperating, distinct, or even competing social groups – from families and peer groups to corporations and political states. As such, social interactions between humans have established a wide variety of values, social norms, languages, and traditions (collectively termed institutions), each of which bolsters human society. Humans are also highly curious: the desire to understand and influence phenomena has motivated humanity's development of science, technology, philosophy, mythology, religion, and other frameworks of knowledge; humans also study themselves through such domains as anthropology, social science, history, psychology, and medicine. There are estimated to be more than 8 billion humans alive.\n",
            "Although some scientists equate the term \"humans\" with all members of the genus Homo, in common usage it generally refers to Homo sapiens, the only extant member. All other members of the genus Homo, which are now extinct, are known as archaic humans, and the term \"modern human\" is used to distinguish Homo sapiens from archaic humans. Anatomically modern humans emerged around 300,000 years ago in Africa, evolving from Homo heidelbergensis or a similar species. Migrating out of Africa, they gradually replaced and interbred with local populations of archaic humans. Multiple hypotheses for the extinction of archaic human species such as Neanderthals include competition, violence, interbreeding with Homo sapiens, or inability to adapt to climate change. Humans began exhibiting behavioral modernity about 160,000–60,000 years ago. For most of their history, humans were nomadic hunter-gatherers. The Neolithic Revolution, which began in Southwest Asia around 13,000 years ago (and separately in a few other places), saw the emergence of agriculture and permanent human settlement; in turn, this led to the development of civilization and kickstarted a period of continuous (and ongoing) population growth and rapid technological change. Since then, a number of civilizations have risen and fallen, while a number of sociocultural and technological developments have resulted in significant changes to the human lifestyle.\n",
            "Genes and the environment influence human biological variation in visible characteristics, physiology, disease susceptibility, mental abilities, body size, and life span. Though humans vary in many traits, humans are among the least genetically diverse species. Any two humans are at least 99.5% genetically similar. Humans are sexually dimorphic: generally, males have greater body strength and females have a higher body fat percentage. At puberty, humans develop secondary sex characteristics. Females are capable of pregnancy, usually between puberty, at around 12 years old, and menopause, around the age of 50. As omnivorous creatures, they are capable of consuming a wide variety of plant and animal material, and have used fire and other forms of heat to prepare and cook food since the time of Homo erectus. Humans can survive for up to eight weeks without food and several days without water. Humans are generally diurnal, sleeping on average seven to nine hours per day. Childbirth is dangerous, with a high risk of complications and death. Often, both the mother and the father provide care for their children, who are helpless at birth.\n",
            "Humans have a large, highly developed, and complex prefrontal cortex, the region of the brain associated with higher cognition. Humans are hig\u001b[0m\u001b[32;1m\u001b[1;3mI now know what a human is in simple terms.\n",
            "Final Answer: Humans are intelligent, social, curious beings with large brains, who originated in Africa and have evolved to develop complex societies and civilizations.\u001b[0m\n",
            "\n",
            "\u001b[1m> Finished chain.\u001b[0m\n"
          ]
        },
        {
          "output_type": "display_data",
          "data": {
            "text/plain": [
              "<IPython.core.display.Markdown object>"
            ],
            "text/markdown": "**The summarized output of the Human is:** Humans are intelligent, social, curious beings with large brains, who originated in Africa and have evolved to develop complex societies and civilizations."
          },
          "metadata": {}
        },
        {
          "output_type": "stream",
          "name": "stdout",
          "text": [
            "Enter your choice of interest, all the results will be fetched from Wikipedia. The results will be summarization of your topic Animals\n",
            "\n",
            "\n",
            "\u001b[1m> Entering new AgentExecutor chain...\u001b[0m\n",
            "\u001b[32;1m\u001b[1;3myou should search for general information about animals\n",
            "Action: wikipedia\n",
            "Action Input: Animals\u001b[0m\u001b[36;1m\u001b[1;3mPage: Animal\n",
            "Summary: Animals are multicellular, eukaryotic organisms in the biological kingdom Animalia (). With few exceptions, animals consume organic material, breathe oxygen, have myocytes and are able to move, can reproduce sexually, and grow from a hollow sphere of cells, the blastula, during embryonic development. Animals form a clade, meaning that they arose from a single common ancestor.\n",
            "Over 1.5 million living animal species have been described, of which around 1.05 million are insects, over 85,000 are molluscs, and around 65,000 are vertebrates. It has been estimated there are as many as 7.77 million animal species on Earth. Animal body lengths range from 8.5 μm (0.00033 in) to 33.6 m (110 ft). They have complex ecologies and interactions with each other and their environments, forming intricate food webs. The scientific study of animals is known as zoology, and the study of animal behaviors is known as ethology.\n",
            "Most living animal species belong to the infrakingdom Bilateria, a highly proliferative clade whose members have a bilaterally symmetric body plan. The vast majority belong to two large superphyla: the protostomes, which includes organisms such as the arthropods, molluscs, flatworms, annelids and nematodes; and the deuterostomes, which include the echinoderms, hemichordates and chordates, the latter of which contains the vertebrates. The simple Xenacoelomorpha have an uncertain position within Bilateria. \n",
            "Animals first appear in the fossil record in the late Cryogenian period, and diversified in the subsequent Ediacaran. Earlier evidence of animals is still controversial; the sponge-like organism Otavia has been dated back to the Tonian period at the start of the Neoproterozoic, but its identity as an animal is heavily contested. Nearly all modern animal phyla became clearly established in the fossil record as marine species during the Cambrian explosion, which began around 539 million years ago (Mya), and most classes during the Ordovician radiation 485.4 Mya. 6,331 groups of genes common to all living animals have been identified; these may have arisen from a single common ancestor that lived about 650 Mya during the Cryogenian period.\n",
            "Historically, Aristotle divided animals into those with blood and those without. Carl Linnaeus created the first hierarchical biological classification for animals in 1758 with his Systema Naturae, which Jean-Baptiste Lamarck expanded into 14 phyla by 1809. In 1874, Ernst Haeckel divided the animal kingdom into the multicellular Metazoa (now synonymous with Animalia) and the Protozoa, single-celled organisms no longer considered animals. In modern times, the biological classification of animals relies on advanced techniques, such as molecular phylogenetics, which are effective at demonstrating the evolutionary relationships between taxa.\n",
            "Humans make use of many other animal species for food (including meat, eggs, and dairy products), for materials (such as leather, fur, and wool), as pets and as working animals for transportation, and services. Dogs, the first domesticated animal, have been used in hunting, in security and in warfare, as have horses, pigeons and birds of prey; while other terrestrial and aquatic animals are hunted for sports, trophies or profits. Non-human animals are also an important cultural element of human evolution, having appeared in cave arts and totems since the earliest times, and are frequently featured in mythology, religion, arts, literature, heraldry, politics, and sports.\n",
            "\n",
            "Page: The Animals\n",
            "Summary: The Animals (also billed as Animals & Friends and Eric Burdon and the Animals) are an English rock band formed in Newcastle upon Tyne in 1963. The Animals' original lineup consisted of deep-voiced frontman Eric Burdon, guitarist Hilton Valentine, bass guitarist Chas Chandler, keyboardist Alan Price, and drummer John Steel. Known for their gritty, bluesy sound, they balanced tough, rock-edged pop singles against rhythm-and-blues-orientated album m\u001b[0m\u001b[32;1m\u001b[1;3mI should clarify that I am looking for information on animals as a general topic, not the band \"The Animals\"\n",
            "Action: wikipedia\n",
            "Action Input: Animals (biology)\u001b[0m\u001b[36;1m\u001b[1;3mPage: Animal\n",
            "Summary: Animals are multicellular, eukaryotic organisms in the biological kingdom Animalia (). With few exceptions, animals consume organic material, breathe oxygen, have myocytes and are able to move, can reproduce sexually, and grow from a hollow sphere of cells, the blastula, during embryonic development. Animals form a clade, meaning that they arose from a single common ancestor.\n",
            "Over 1.5 million living animal species have been described, of which around 1.05 million are insects, over 85,000 are molluscs, and around 65,000 are vertebrates. It has been estimated there are as many as 7.77 million animal species on Earth. Animal body lengths range from 8.5 μm (0.00033 in) to 33.6 m (110 ft). They have complex ecologies and interactions with each other and their environments, forming intricate food webs. The scientific study of animals is known as zoology, and the study of animal behaviors is known as ethology.\n",
            "Most living animal species belong to the infrakingdom Bilateria, a highly proliferative clade whose members have a bilaterally symmetric body plan. The vast majority belong to two large superphyla: the protostomes, which includes organisms such as the arthropods, molluscs, flatworms, annelids and nematodes; and the deuterostomes, which include the echinoderms, hemichordates and chordates, the latter of which contains the vertebrates. The simple Xenacoelomorpha have an uncertain position within Bilateria. \n",
            "Animals first appear in the fossil record in the late Cryogenian period, and diversified in the subsequent Ediacaran. Earlier evidence of animals is still controversial; the sponge-like organism Otavia has been dated back to the Tonian period at the start of the Neoproterozoic, but its identity as an animal is heavily contested. Nearly all modern animal phyla became clearly established in the fossil record as marine species during the Cambrian explosion, which began around 539 million years ago (Mya), and most classes during the Ordovician radiation 485.4 Mya. 6,331 groups of genes common to all living animals have been identified; these may have arisen from a single common ancestor that lived about 650 Mya during the Cryogenian period.\n",
            "Historically, Aristotle divided animals into those with blood and those without. Carl Linnaeus created the first hierarchical biological classification for animals in 1758 with his Systema Naturae, which Jean-Baptiste Lamarck expanded into 14 phyla by 1809. In 1874, Ernst Haeckel divided the animal kingdom into the multicellular Metazoa (now synonymous with Animalia) and the Protozoa, single-celled organisms no longer considered animals. In modern times, the biological classification of animals relies on advanced techniques, such as molecular phylogenetics, which are effective at demonstrating the evolutionary relationships between taxa.\n",
            "Humans make use of many other animal species for food (including meat, eggs, and dairy products), for materials (such as leather, fur, and wool), as pets and as working animals for transportation, and services. Dogs, the first domesticated animal, have been used in hunting, in security and in warfare, as have horses, pigeons and birds of prey; while other terrestrial and aquatic animals are hunted for sports, trophies or profits. Non-human animals are also an important cultural element of human evolution, having appeared in cave arts and totems since the earliest times, and are frequently featured in mythology, religion, arts, literature, heraldry, politics, and sports.\n",
            "\n",
            "Page: Zoology\n",
            "Summary: Zoology ( zoh-OL-ə-jee) is the scientific study of animals. Its studies include the structure, embryology, classification, habits, and distribution of all animals, both living and extinct, and how they interact with their ecosystems. Zoology is one of the primary branches of biology. The term is derived from Ancient Greek ζῷον, zōion ('animal'), and λόγος, logos ('knowledge', 'study').\n",
            "Although humans have always been interested in the natural histor\u001b[0m\u001b[32;1m\u001b[1;3mI now know the final answer\n",
            "Final Answer: Animals are multicellular, eukaryotic organisms in the biological kingdom Animalia that consume organic material, breathe oxygen, have myocytes and are able to move, can reproduce sexually, and grow from a hollow sphere of cells during embryonic development. There are over 1.5 million living animal species on Earth.\u001b[0m\n",
            "\n",
            "\u001b[1m> Finished chain.\u001b[0m\n",
            "\n",
            "\n",
            "\u001b[1m> Entering new AgentExecutor chain...\u001b[0m\n",
            "\u001b[32;1m\u001b[1;3mI should search for a general overview of the topic \"Animals\" to summarize it in simple terms.\n",
            "Action: wikipedia\n",
            "Action Input: Animals\u001b[0m\u001b[36;1m\u001b[1;3mPage: Animal\n",
            "Summary: Animals are multicellular, eukaryotic organisms in the biological kingdom Animalia (). With few exceptions, animals consume organic material, breathe oxygen, have myocytes and are able to move, can reproduce sexually, and grow from a hollow sphere of cells, the blastula, during embryonic development. Animals form a clade, meaning that they arose from a single common ancestor.\n",
            "Over 1.5 million living animal species have been described, of which around 1.05 million are insects, over 85,000 are molluscs, and around 65,000 are vertebrates. It has been estimated there are as many as 7.77 million animal species on Earth. Animal body lengths range from 8.5 μm (0.00033 in) to 33.6 m (110 ft). They have complex ecologies and interactions with each other and their environments, forming intricate food webs. The scientific study of animals is known as zoology, and the study of animal behaviors is known as ethology.\n",
            "Most living animal species belong to the infrakingdom Bilateria, a highly proliferative clade whose members have a bilaterally symmetric body plan. The vast majority belong to two large superphyla: the protostomes, which includes organisms such as the arthropods, molluscs, flatworms, annelids and nematodes; and the deuterostomes, which include the echinoderms, hemichordates and chordates, the latter of which contains the vertebrates. The simple Xenacoelomorpha have an uncertain position within Bilateria. \n",
            "Animals first appear in the fossil record in the late Cryogenian period, and diversified in the subsequent Ediacaran. Earlier evidence of animals is still controversial; the sponge-like organism Otavia has been dated back to the Tonian period at the start of the Neoproterozoic, but its identity as an animal is heavily contested. Nearly all modern animal phyla became clearly established in the fossil record as marine species during the Cambrian explosion, which began around 539 million years ago (Mya), and most classes during the Ordovician radiation 485.4 Mya. 6,331 groups of genes common to all living animals have been identified; these may have arisen from a single common ancestor that lived about 650 Mya during the Cryogenian period.\n",
            "Historically, Aristotle divided animals into those with blood and those without. Carl Linnaeus created the first hierarchical biological classification for animals in 1758 with his Systema Naturae, which Jean-Baptiste Lamarck expanded into 14 phyla by 1809. In 1874, Ernst Haeckel divided the animal kingdom into the multicellular Metazoa (now synonymous with Animalia) and the Protozoa, single-celled organisms no longer considered animals. In modern times, the biological classification of animals relies on advanced techniques, such as molecular phylogenetics, which are effective at demonstrating the evolutionary relationships between taxa.\n",
            "Humans make use of many other animal species for food (including meat, eggs, and dairy products), for materials (such as leather, fur, and wool), as pets and as working animals for transportation, and services. Dogs, the first domesticated animal, have been used in hunting, in security and in warfare, as have horses, pigeons and birds of prey; while other terrestrial and aquatic animals are hunted for sports, trophies or profits. Non-human animals are also an important cultural element of human evolution, having appeared in cave arts and totems since the earliest times, and are frequently featured in mythology, religion, arts, literature, heraldry, politics, and sports.\n",
            "\n",
            "Page: The Animals\n",
            "Summary: The Animals (also billed as Animals & Friends and Eric Burdon and the Animals) are an English rock band formed in Newcastle upon Tyne in 1963. The Animals' original lineup consisted of deep-voiced frontman Eric Burdon, guitarist Hilton Valentine, bass guitarist Chas Chandler, keyboardist Alan Price, and drummer John Steel. Known for their gritty, bluesy sound, they balanced tough, rock-edged pop singles against rhythm-and-blues-orientated album m\u001b[0m\u001b[32;1m\u001b[1;3mI now have a good understanding of the topic \"Animals\" and can summarize it in layman terms.\n",
            "Final Answer: Animals are a diverse group of living organisms that consume organic material, breathe oxygen, move, and reproduce sexually. They have complex interactions with each other and their environments, and are studied in the field of zoology.\u001b[0m\n",
            "\n",
            "\u001b[1m> Finished chain.\u001b[0m\n"
          ]
        },
        {
          "output_type": "display_data",
          "data": {
            "text/plain": [
              "<IPython.core.display.Markdown object>"
            ],
            "text/markdown": "**The summarized output of the Animals is:** Animals are a diverse group of living organisms that consume organic material, breathe oxygen, move, and reproduce sexually. They have complex interactions with each other and their environments, and are studied in the field of zoology."
          },
          "metadata": {}
        },
        {
          "output_type": "stream",
          "name": "stdout",
          "text": [
            "Enter your choice of interest, all the results will be fetched from Wikipedia. The results will be summarization of your topic World War 2\n",
            "\n",
            "\n",
            "\u001b[1m> Entering new AgentExecutor chain...\u001b[0m\n",
            "\u001b[32;1m\u001b[1;3myou should use Wikipedia to get a detailed overview of World War 2\n",
            "Action: wikipedia\n",
            "Action Input: World War 2\u001b[0m\u001b[36;1m\u001b[1;3mPage: World War II\n",
            "Summary: World War II or the Second World War (1 September 1939 – 2 September 1945) was a global conflict between two alliances: the Allies and the Axis powers. Nearly all of the world's countries—including all the great powers—participated, and many invested all available economic, industrial, and scientific capabilities in pursuit of total war, blurring the distinction between military and civilian resources. Tanks and aircraft played major roles, with the latter enabling the strategic bombing of population centres and delivery of the only two nuclear weapons ever used in war. World War II was the deadliest conflict in history, resulting in 70 to 85 million fatalities, more than half of which were civilians. Millions died in genocides, including the Holocaust of European Jews, and by massacres, starvation, and disease. Following the Allied powers' victory, Germany, Austria, Japan, and Korea were occupied, and war crimes tribunals were conducted against German and Japanese leaders.\n",
            "The causes of World War II included unresolved tensions in the aftermath of World War I and the rises of fascism in Europe and militarism in Japan, and it was preceded by events including the Japanese invasion of Manchuria, Spanish Civil War, outbreak of the Second Sino-Japanese War, and German annexations of Austria and the Sudetenland. World War II is generally considered to have begun on 1 September 1939, when Nazi Germany, under Adolf Hitler, invaded Poland. The United Kingdom and France declared war on Germany on 3 September. Under their Molotov–Ribbentrop Pact, Germany and the Soviet Union had partitioned Poland and marked out \"spheres of influence\" across Eastern Europe; in 1940, the Soviets annexed the Baltic states and parts of Finland and Romania. After the fall of France in June 1940, the war continued primarily between Germany and the British Empire, with campaigns in North and East Africa and the Balkans, the aerial Battle of Britain and the Blitz of the UK, and the naval Battle of the Atlantic. By mid-1941, through a series of campaigns and treaties, Germany occupied or controlled much of continental Europe and had formed the Axis alliance with Italy, Japan, and other countries. In June 1941, Germany led the European Axis in an invasion of the Soviet Union, opening the Eastern Front.\n",
            "Japan aimed to dominate East Asia and the Asia-Pacific, and by 1937 was at war with the Republic of China. In December 1941, Japan attacked American and British territories in Southeast Asia and the Central Pacific, including an attack on Pearl Harbor, which resulted in the United States and the United Kingdom declaring war against Japan. The European Axis powers declared war on the US in solidarity. Japan soon conquered much of the western Pacific, but its advances were halted in 1942 after its defeat in the naval Battle of Midway; Germany and Italy were defeated in North Africa and at Stalingrad in the Soviet Union. Key setbacks in 1943—including German defeats on the Eastern Front, the Allied invasions of Sicily and the Italian mainland, and Allied offensives in the Pacific—cost the Axis powers their initiative and forced them into strategic retreat on all fronts. In 1944, the Western Allies invaded German-occupied France at Normandy, while the Soviet Union regained its territorial losses and pushed Germany and its allies westward. In 1944 and 1945, Japan suffered reversals in mainland Asia, while the Allies crippled the Japanese Navy and captured key western Pacific islands. The war in Europe concluded with the liberation of German-occupied territories; the invasion of Germany by the Western Allies and the Soviet Union, culminating in the fall of Berlin to Soviet troops; Hitler's suicide; and the German unconditional surrender on 8 May 1945. Following the refusal of Japan to surrender on the terms of the Potsdam Declaration, the US dropped the first atomic bombs on Hiroshima on 6 August and Nagasaki on 9 August. Faced with imminent \u001b[0m\u001b[32;1m\u001b[1;3mI now know the detailed overview of World War 2\n",
            "Final Answer: World War II was a global conflict between the Allies and the Axis powers that took place from 1939 to 1945, resulting in millions of fatalities and significant geopolitical changes.\u001b[0m\n",
            "\n",
            "\u001b[1m> Finished chain.\u001b[0m\n",
            "\n",
            "\n",
            "\u001b[1m> Entering new AgentExecutor chain...\u001b[0m\n",
            "\u001b[32;1m\u001b[1;3mI should use Wikipedia to get a simple summary of World War 2.\n",
            "Action: wikipedia\n",
            "Action Input: World War 2\u001b[0m\u001b[36;1m\u001b[1;3mPage: World War II\n",
            "Summary: World War II or the Second World War (1 September 1939 – 2 September 1945) was a global conflict between two alliances: the Allies and the Axis powers. Nearly all of the world's countries—including all the great powers—participated, and many invested all available economic, industrial, and scientific capabilities in pursuit of total war, blurring the distinction between military and civilian resources. Tanks and aircraft played major roles, with the latter enabling the strategic bombing of population centres and delivery of the only two nuclear weapons ever used in war. World War II was the deadliest conflict in history, resulting in 70 to 85 million fatalities, more than half of which were civilians. Millions died in genocides, including the Holocaust of European Jews, and by massacres, starvation, and disease. Following the Allied powers' victory, Germany, Austria, Japan, and Korea were occupied, and war crimes tribunals were conducted against German and Japanese leaders.\n",
            "The causes of World War II included unresolved tensions in the aftermath of World War I and the rises of fascism in Europe and militarism in Japan, and it was preceded by events including the Japanese invasion of Manchuria, Spanish Civil War, outbreak of the Second Sino-Japanese War, and German annexations of Austria and the Sudetenland. World War II is generally considered to have begun on 1 September 1939, when Nazi Germany, under Adolf Hitler, invaded Poland. The United Kingdom and France declared war on Germany on 3 September. Under their Molotov–Ribbentrop Pact, Germany and the Soviet Union had partitioned Poland and marked out \"spheres of influence\" across Eastern Europe; in 1940, the Soviets annexed the Baltic states and parts of Finland and Romania. After the fall of France in June 1940, the war continued primarily between Germany and the British Empire, with campaigns in North and East Africa and the Balkans, the aerial Battle of Britain and the Blitz of the UK, and the naval Battle of the Atlantic. By mid-1941, through a series of campaigns and treaties, Germany occupied or controlled much of continental Europe and had formed the Axis alliance with Italy, Japan, and other countries. In June 1941, Germany led the European Axis in an invasion of the Soviet Union, opening the Eastern Front.\n",
            "Japan aimed to dominate East Asia and the Asia-Pacific, and by 1937 was at war with the Republic of China. In December 1941, Japan attacked American and British territories in Southeast Asia and the Central Pacific, including an attack on Pearl Harbor, which resulted in the United States and the United Kingdom declaring war against Japan. The European Axis powers declared war on the US in solidarity. Japan soon conquered much of the western Pacific, but its advances were halted in 1942 after its defeat in the naval Battle of Midway; Germany and Italy were defeated in North Africa and at Stalingrad in the Soviet Union. Key setbacks in 1943—including German defeats on the Eastern Front, the Allied invasions of Sicily and the Italian mainland, and Allied offensives in the Pacific—cost the Axis powers their initiative and forced them into strategic retreat on all fronts. In 1944, the Western Allies invaded German-occupied France at Normandy, while the Soviet Union regained its territorial losses and pushed Germany and its allies westward. In 1944 and 1945, Japan suffered reversals in mainland Asia, while the Allies crippled the Japanese Navy and captured key western Pacific islands. The war in Europe concluded with the liberation of German-occupied territories; the invasion of Germany by the Western Allies and the Soviet Union, culminating in the fall of Berlin to Soviet troops; Hitler's suicide; and the German unconditional surrender on 8 May 1945. Following the refusal of Japan to surrender on the terms of the Potsdam Declaration, the US dropped the first atomic bombs on Hiroshima on 6 August and Nagasaki on 9 August. Faced with imminent \u001b[0m\u001b[32;1m\u001b[1;3mI now know the final answer\n",
            "Final Answer: World War II was a global conflict between the Allies and the Axis powers from 1939 to 1945, resulting in millions of fatalities and major geopolitical changes.\u001b[0m\n",
            "\n",
            "\u001b[1m> Finished chain.\u001b[0m\n"
          ]
        },
        {
          "output_type": "display_data",
          "data": {
            "text/plain": [
              "<IPython.core.display.Markdown object>"
            ],
            "text/markdown": "**The summarized output of the World War 2 is:** World War II was a global conflict between the Allies and the Axis powers from 1939 to 1945, resulting in millions of fatalities and major geopolitical changes."
          },
          "metadata": {}
        },
        {
          "name": "stdout",
          "output_type": "stream",
          "text": [
            "Enter your choice of interest, all the results will be fetched from Wikipedia. The results will be summarization of your topic exit\n"
          ]
        }
      ]
    },
    {
      "cell_type": "markdown",
      "source": [
        "**Implement error handling mechanisms to ensure the agent can handle unexpected inputs and API call failures**"
      ],
      "metadata": {
        "id": "lVnKml46IN_z"
      }
    },
    {
      "cell_type": "code",
      "source": [
        "from langchain.agents import load_tools\n",
        "\n",
        "# Define a function to safely invoke the agent and handle potential errors.\n",
        "def safe_agent_invoke(agent_executor,input_text):\n",
        "  try:\n",
        "    #Attempting to get the summary\n",
        "    answer = agent_executor.invoke({\"input\": f\"Summarize about {input_tex} in 2 lines in layman terms\"})\n",
        "    #print Summary\n",
        "    print(\"Safe Summary:\", answer['ouput'])\n",
        "    print(\"\\n\")\n",
        "  except Exception as e:\n",
        "    # Print an error message if an exception occurs.\n",
        "    print(f\"Error: {e}\",end=\"\\n\")\n",
        "    print(\"Sorry, I couldn't complete your request.\")\n",
        "    print(\"\\n\")\n",
        "\n",
        "# Load the Wikipedia tool for the agent.\n",
        "tools = load_tools([\"wikipedia\"], llm=llm)\n",
        "prompt = hub.pull(\"hwchase17/react\")\n",
        "prompt.template\n",
        "agent_with_tools = create_react_agent(llm, tools=tools, prompt=prompt)\n",
        "agent_executor = AgentExecutor(agent=agent_with_tools, tools=tools, verbose=True)\n",
        "\n",
        "print(\"Output by Vamsidhar Vuddagiri\")\n",
        "print()\n",
        "\n",
        "while True:\n",
        "  input_text = input(\"Find your interest from Wikipidea just by typing: \")\n",
        "  if input_text == \"exit\":\n",
        "    break\n",
        "  else:\n",
        "    safe_summary = safe_agent_invoke(agent_executor,input_text)\n",
        "\n",
        "\n"
      ],
      "metadata": {
        "colab": {
          "base_uri": "https://localhost:8080/"
        },
        "id": "TdNTdZpR9FzS",
        "outputId": "c3b4c100-9897-40eb-db97-1733ba67cec8"
      },
      "execution_count": null,
      "outputs": [
        {
          "name": "stdout",
          "output_type": "stream",
          "text": [
            "Output by Vamsidhar Vuddagiri\n",
            "\n",
            "Find your interest from Wikipidea just by typing: great wall\n",
            "\n",
            "\n",
            "\u001b[1m> Entering new AgentExecutor chain...\u001b[0m\n",
            "\u001b[32;1m\u001b[1;3mI should search for information about the Great Wall of China to provide a simple summary.\n",
            "Action: wikipedia\n",
            "Action Input: Great Wall of China\u001b[0m\u001b[36;1m\u001b[1;3mPage: Great Wall of China\n",
            "Summary: The Great Wall of China (traditional Chinese: 萬里長城; simplified Chinese: 万里长城; pinyin: Wànlǐ Chángchéng, literally \"ten thousand li long wall\") is a series of fortifications that were built across the historical northern borders of ancient Chinese states and Imperial China as protection against various nomadic groups from the Eurasian Steppe. Several walls were built from as early as the 7th century BC, with selective stretches later joined by Qin Shi Huang (220–206 BC), the first emperor of China. Little of the Qin wall remains. Later on, many successive dynasties built and maintained multiple stretches of border walls. The best-known sections of the wall were built by the Ming dynasty (1368–1644).\n",
            "Apart from defense, other purposes of the Great Wall have included border controls, allowing the imposition of duties on goods transported along the Silk Road, regulation or encouragement of trade and the control of immigration and emigration. Furthermore, the defensive characteristics of the Great Wall were enhanced by the construction of watchtowers, troop barracks, garrison stations, signaling capabilities through the means of smoke or fire, and the fact that the path of the Great Wall also served as a transportation corridor.\n",
            "The frontier walls built by different dynasties have multiple courses. Collectively, they stretch from Liaodong in the east to Lop Lake in the west, from the present-day Sino–Russian border in the north to Tao River (Taohe) in the south; along an arc that roughly delineates the edge of the Mongolian steppe; spanning 21,196.18 km (13,170.70 mi) in total. Today, the defensive system of the Great Wall is generally recognized as one of the most impressive architectural feats in history.\n",
            "\n",
            "\n",
            "\n",
            "Page: History of the Great Wall of China\n",
            "Summary: The history of the Great Wall of China began when fortifications built by various states during the Spring and Autumn (771–476 BC) and Warring States periods (475–221 BC) were connected by the first emperor of China, Qin Shi Huang, to protect his newly founded Qin dynasty (221–206 BC) against incursions by nomads from Inner Asia. The walls were built of rammed earth, constructed using forced labour, and by 212 BC ran from Gansu to the coast of southern Manchuria.\n",
            "Later dynasties adopted different policies towards northern frontier defense. The Han (202 BC – 220 AD), the Northern Qi (550–574), the Jurchen-ruled Jin (1115–1234), and particularly the Ming (1369–1644) were among those that rebuilt, re-manned, and expanded the Walls, although they rarely followed Qin's routes. The Han extended the fortifications furthest to the west, the Qi built about 1,600 kilometres (990 mi) of new walls, while the Sui mobilised over a million men in their wall-building efforts. Conversely, the Tang (618–907), the Song (960–1279), the Yuan (1271–1368), and the Qing (1644–1912) mostly did not build frontier walls, instead opting for other solutions to the Inner Asian threat like military campaigning and diplomacy.\n",
            "Although a useful deterrent against raids, at several points throughout its history the Great Wall failed to stop enemies, including in 1644 when the Qing troops marched through the gates of the Shanhai Pass and replaced the most ardent of the wall-building dynasties, the Ming, as rulers of China proper.\n",
            "The Great Wall of China visible today largely dates from the Ming dynasty, as they rebuilt much of the wall in stone and brick, often extending its line through challenging terrain. Some sections remain in relatively good condition or have been renovated, while others have been damaged or destroyed for ideological reasons, deconstructed for their building materials, or lost due to the ravages of time. For long an object of fascination for foreigners, the wall is now a revered national symbol and a popular tourist destination.\n",
            "\n",
            "\n",
            "\n",
            "Page: Great Wall of China hoax\n",
            "Summary: The Great Wall of China hoax was a faked newspaper story concocted on June 25, 1899 b\u001b[0m\u001b[32;1m\u001b[1;3mI now know the final answer\n",
            "Final Answer: The Great Wall of China is a series of fortifications built across the historical northern borders of ancient Chinese states and Imperial China for protection against nomadic groups from the Eurasian Steppe.\u001b[0m\n",
            "\n",
            "\u001b[1m> Finished chain.\u001b[0m\n",
            "Error: 'ouput'\n",
            "Sorry, I couldn't complete your request.\n",
            "\n",
            "\n",
            "Find your interest from Wikipidea just by typing: exit\n"
          ]
        }
      ]
    },
    {
      "cell_type": "markdown",
      "source": [
        "**create custom prompt templates tailored for specific  s and integrate them into the agent**"
      ],
      "metadata": {
        "id": "MmyMXEIsOykT"
      }
    },
    {
      "cell_type": "code",
      "source": [
        "# Installing the arxiv API\n",
        "!pip install arxiv"
      ],
      "metadata": {
        "colab": {
          "base_uri": "https://localhost:8080/"
        },
        "collapsed": true,
        "id": "A12nbbeNVssi",
        "outputId": "8213deae-e275-498f-c079-b8549ee78f8d"
      },
      "execution_count": null,
      "outputs": [
        {
          "output_type": "stream",
          "name": "stdout",
          "text": [
            "Requirement already satisfied: arxiv in /usr/local/lib/python3.10/dist-packages (2.1.3)\n",
            "Requirement already satisfied: feedparser~=6.0.10 in /usr/local/lib/python3.10/dist-packages (from arxiv) (6.0.11)\n",
            "Requirement already satisfied: requests~=2.32.0 in /usr/local/lib/python3.10/dist-packages (from arxiv) (2.32.3)\n",
            "Requirement already satisfied: sgmllib3k in /usr/local/lib/python3.10/dist-packages (from feedparser~=6.0.10->arxiv) (1.0.0)\n",
            "Requirement already satisfied: charset-normalizer<4,>=2 in /usr/local/lib/python3.10/dist-packages (from requests~=2.32.0->arxiv) (3.3.2)\n",
            "Requirement already satisfied: idna<4,>=2.5 in /usr/local/lib/python3.10/dist-packages (from requests~=2.32.0->arxiv) (3.7)\n",
            "Requirement already satisfied: urllib3<3,>=1.21.1 in /usr/local/lib/python3.10/dist-packages (from requests~=2.32.0->arxiv) (2.0.7)\n",
            "Requirement already satisfied: certifi>=2017.4.17 in /usr/local/lib/python3.10/dist-packages (from requests~=2.32.0->arxiv) (2024.7.4)\n"
          ]
        }
      ]
    },
    {
      "cell_type": "code",
      "source": [
        "from langchain import hub\n",
        "from langchain.agents import AgentExecutor, create_react_agent, load_tools\n",
        "from langchain.prompts import PromptTemplate\n",
        "from IPython.display import display, Markdown\n",
        "\n",
        "# Since, we want to get the summarize the academic papers, I am using\n",
        "# Arxiv API, to summarize the paper.\n",
        "# Working: When the input introduction is given the model retrieves the information\n",
        "# from the Arxiv academic papers and use it to summarize the paper.\n",
        "\n",
        "# Arxiv is an open API which can found in Arxiv official website https://info.arxiv.org/help/api/index.html and\n",
        "# in lnagchain documentation https://python.langchain.com/v0.2/docs/integrations/tools/arxiv/\n",
        "\n",
        "tools = load_tools(['arxiv'])\n",
        "\n",
        "# Defining custom prompt template with enforced structure\n",
        "\n",
        "# Reference for custom prompt template: https://www.comet.com/site/blog/using-the-react-framework-in-langchain/\n",
        "\n",
        "custom_template = PromptTemplate(\n",
        "    template=\"\"\"Given the following academic paper content:\\n\\n{input}\\n\\n\n",
        "Please provide a structured summary for the complete academic paper by mentioning tools used: {tools} - {tool_names}\\n\\n\n",
        "\n",
        "\n",
        "Question: the input question you must summarize\n",
        "Thought: you should think step by step what actions you need to take\n",
        "Action: the action to take, should be one of [arxiv]\n",
        "Action Input: the input to the action\n",
        "Observation: the result of the action\n",
        "\n",
        "Thought: I now know the final answer\n",
        "Final Answer: the summarized final answer to the original input question\n",
        "\n",
        "Begin!\n",
        "\n",
        "Question: {input}\n",
        "Thought:{agent_scratchpad}\n",
        "\n",
        "\n",
        "\n",
        "\"\"\"\n",
        ")\n",
        "\n",
        "display(Markdown(f\"**Output by Vamsidhar Vuddagiri**\"))\n",
        "# Create the agent using the ReAct framework with the custom prompt template\n",
        "custom_agent = create_react_agent(llm, tools=tools, prompt=custom_template)\n",
        "\n",
        "# Create an agent executor with error handling\n",
        "custom_agent_executor = AgentExecutor(agent=custom_agent, tools=tools, verbose=True, handle_parsing_errors=True)\n",
        "\n",
        "paper_introduction = \"In this paper, we explore the effects of climate change on global agriculture...\"\n",
        "\n",
        "try:\n",
        "    structured_summary = custom_agent_executor.invoke({\n",
        "        \"input\": paper_introduction,\n",
        "        \"agent_scratchpad\": \"\",\n",
        "        \"tools\": ', '.join(['arxiv']),\n",
        "        \"tool_names\": ', '.join(['arxiv'])\n",
        "    })\n",
        "\n",
        "    display(Markdown(f\"**Structured Summary:** {structured_summary['output']}\"))\n",
        "    print()\n",
        "except Exception as e:\n",
        "    print(f\"Unexpected error occurred: {e}\")\n"
      ],
      "metadata": {
        "colab": {
          "base_uri": "https://localhost:8080/",
          "height": 1000
        },
        "id": "rmf1kBgpZ3LF",
        "outputId": "83cd5455-277b-4492-dcfe-7c4bb772b971"
      },
      "execution_count": null,
      "outputs": [
        {
          "output_type": "display_data",
          "data": {
            "text/plain": [
              "<IPython.core.display.Markdown object>"
            ],
            "text/markdown": "**Output by Vamsidhar Vuddagiri**"
          },
          "metadata": {}
        },
        {
          "output_type": "stream",
          "name": "stdout",
          "text": [
            "\n",
            "\n",
            "\u001b[1m> Entering new AgentExecutor chain...\u001b[0m\n",
            "\u001b[32;1m\u001b[1;3mThought: To summarize the academic paper on the effects of climate change on global agriculture, we need to identify the tools used in the research.\n",
            "\n",
            "Action: arxiv\n",
            "Action Input: Effects of climate change on global agriculture\u001b[0m\u001b[36;1m\u001b[1;3mPublished: 2021-08-25\n",
            "Title: A review of effects of climate change on Agriculture in Africa\n",
            "Authors: Samuel Asante Gyamerah, Dennis Ikpe\n",
            "Summary: Currently, agriculture in Africa contributes only a tenth to global Green\n",
            "House Gas (GHG) emissions from agriculture. Despite its relatively low\n",
            "contribution to GHG, a conundrum of \"climate justice\", adverse impacts of\n",
            "climate change disproportionately threaten Africa's agriculture, the\n",
            "Continent's main economic sector. Consequently, we seek to review the effects\n",
            "of climate change on Agriculture.\n",
            "\n",
            "Published: 2021-04-02\n",
            "Title: The Historical Impact of Anthropogenic Climate Change on Global Agricultural Productivity\n",
            "Authors: Ariel Ortiz-Bobea, Toby R. Ault, Carlos M. Carrillo, Robert G. Chambers, David B. Lobell\n",
            "Summary: Agricultural research has fostered productivity growth, but the historical\n",
            "influence of anthropogenic climate change on that growth has not been\n",
            "quantified. We develop a robust econometric model of weather effects on global\n",
            "agricultural total factor productivity (TFP) and combine this model with\n",
            "counterfactual climate scenarios to evaluate impacts of past climate trends on\n",
            "TFP. Our baseline model indicates that anthropogenic climate change has reduced\n",
            "global agricultural TFP by about 21% since 1961, a slowdown that is equivalent\n",
            "to losing the last 9 years of productivity growth. The effect is substantially\n",
            "more severe (a reduction of ~30-33%) in warmer regions such as Africa and Latin\n",
            "America and the Caribbean. We also find that global agriculture has grown more\n",
            "vulnerable to ongoing climate change.\n",
            "\n",
            "Published: 2022-11-06\n",
            "Title: Personalizing Sustainable Agriculture with Causal Machine Learning\n",
            "Authors: Georgios Giannarakis, Vasileios Sitokonstantinou, Roxanne Suzette Lorilla, Charalampos Kontoes\n",
            "Summary: To fight climate change and accommodate the increasing population, global\n",
            "crop production has to be strengthened. To achieve the \"sustainable\n",
            "intensification\" of agriculture, transforming it from carbon emitter to carbon\n",
            "sink is a priority, and understanding the environmental impact of agricultural\n",
            "management practices is a fundamental prerequisite to that. At the same time,\n",
            "the global agricultural landscape is deeply heterogeneous, with differences in\n",
            "climate, soil, and land use inducing variations in how agricultural systems\n",
            "respond to farmer actions. The \"personalization\" of sustainable agriculture\n",
            "with the provision of locally adapted management advice is thus a necessary\n",
            "condition for the efficient uplift of green metrics, and an integral\n",
            "development in imminent policies. Here, we formulate personalized sustainable\n",
            "agriculture as a Conditional Average Treatment Effect estimation   and use\n",
            "Causal Machine Learning for tackling it. Leveraging climate data, land use\n",
            "information and employing Double Machine Learning, we estimate the\n",
            "heterogeneous effect of sustainable practices on the field-level Soil Organic\n",
            "Carbon content in Lithuania. We thus provide a data-driven perspective for\n",
            "targeting sustainable practices and effectively expanding the global carbon\n",
            "sink.\u001b[0m\u001b[32;1m\u001b[1;3mThought: After reviewing the arxiv papers on the effects of climate change on global agriculture, we can summarize the findings and tools used in the research.\n",
            "\n",
            "Final Answer: The academic paper explores the effects of climate change on global agriculture using tools such as arxiv. The research highlights the impact of climate change on agriculture in Africa, the historical influence of anthropogenic climate change on global agricultural productivity, and the importance of personalizing sustainable agriculture with causal machine learning to combat climate change and strengthen crop production.\u001b[0m\n",
            "\n",
            "\u001b[1m> Finished chain.\u001b[0m\n"
          ]
        },
        {
          "output_type": "display_data",
          "data": {
            "text/plain": [
              "<IPython.core.display.Markdown object>"
            ],
            "text/markdown": "**Structured Summary:** The academic paper explores the effects of climate change on global agriculture using tools such as arxiv. The research highlights the impact of climate change on agriculture in Africa, the historical influence of anthropogenic climate change on global agricultural productivity, and the importance of personalizing sustainable agriculture with causal machine learning to combat climate change and strengthen crop production."
          },
          "metadata": {}
        },
        {
          "output_type": "stream",
          "name": "stdout",
          "text": [
            "\n"
          ]
        }
      ]
    },
    {
      "cell_type": "code",
      "source": [],
      "metadata": {
        "id": "QEwYpZMfQNiV"
      },
      "execution_count": null,
      "outputs": []
    }
  ]
}
